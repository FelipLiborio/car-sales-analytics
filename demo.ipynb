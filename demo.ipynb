{
 "cells": [
  {
   "cell_type": "markdown",
   "id": "c9ff7bf9",
   "metadata": {},
   "source": [
    "# 🚗 Vehicle Sales Analytics – Análise Estatística de Vendas de Veículos\n",
    "\n",
    "Este notebook faz parte de um trabalho de Estatística e apresenta a análise do dataset **Vehicle Sales and Market Trends**, que reúne informações sobre vendas de veículos, incluindo características dos automóveis, condições de uso, preços de venda, valores de mercado (MMR) e dados das transações.  \n",
    "\n",
    "O objetivo é aplicar técnicas de **análise exploratória de dados (EDA)**, **testes de hipóteses** e **modelagem de regressão linear**, a fim de identificar padrões, tendências e gerar insights úteis para a tomada de decisão no contexto do mercado automotivo.  "
   ]
  },
  {
   "cell_type": "markdown",
   "id": "734a24f3",
   "metadata": {},
   "source": [
    "### 1. Exploração e Tratamento dos Dados para Análise"
   ]
  },
  {
   "cell_type": "markdown",
   "id": "b79775cc",
   "metadata": {},
   "source": [
    "#### 1.1 Visualização inicial dos dados"
   ]
  },
  {
   "cell_type": "code",
   "execution_count": 1,
   "id": "7b9154b2",
   "metadata": {},
   "outputs": [],
   "source": [
    "import pandas as pd\n",
    "import matplotlib.pyplot as plt   \n",
    "import seaborn as sns\n",
    "import scipy.stats as stats\n",
    "import statsmodels.api as sm\n",
    "from sklearn.model_selection import train_test_split\n",
    "from sklearn.metrics import r2_score, mean_squared_error"
   ]
  },
  {
   "cell_type": "code",
   "execution_count": 2,
   "id": "3f8f9fde",
   "metadata": {},
   "outputs": [],
   "source": [
    "df = pd.read_csv('data/car_prices.csv')"
   ]
  },
  {
   "cell_type": "code",
   "execution_count": 3,
   "id": "fca8e0e0",
   "metadata": {},
   "outputs": [
    {
     "data": {
      "application/vnd.microsoft.datawrangler.viewer.v0+json": {
       "columns": [
        {
         "name": "index",
         "rawType": "int64",
         "type": "integer"
        },
        {
         "name": "year",
         "rawType": "int64",
         "type": "integer"
        },
        {
         "name": "make",
         "rawType": "object",
         "type": "string"
        },
        {
         "name": "model",
         "rawType": "object",
         "type": "string"
        },
        {
         "name": "trim",
         "rawType": "object",
         "type": "string"
        },
        {
         "name": "body",
         "rawType": "object",
         "type": "string"
        },
        {
         "name": "transmission",
         "rawType": "object",
         "type": "string"
        },
        {
         "name": "vin",
         "rawType": "object",
         "type": "string"
        },
        {
         "name": "state",
         "rawType": "object",
         "type": "string"
        },
        {
         "name": "condition",
         "rawType": "float64",
         "type": "float"
        },
        {
         "name": "odometer",
         "rawType": "float64",
         "type": "float"
        },
        {
         "name": "color",
         "rawType": "object",
         "type": "string"
        },
        {
         "name": "interior",
         "rawType": "object",
         "type": "string"
        },
        {
         "name": "seller",
         "rawType": "object",
         "type": "string"
        },
        {
         "name": "mmr",
         "rawType": "float64",
         "type": "float"
        },
        {
         "name": "sellingprice",
         "rawType": "float64",
         "type": "float"
        },
        {
         "name": "saledate",
         "rawType": "object",
         "type": "string"
        }
       ],
       "ref": "31454165-0f0f-417e-8657-374742417be0",
       "rows": [
        [
         "0",
         "2015",
         "Kia",
         "Sorento",
         "LX",
         "SUV",
         "automatic",
         "5xyktca69fg566472",
         "ca",
         "5.0",
         "16639.0",
         "white",
         "black",
         "kia motors america  inc",
         "20500.0",
         "21500.0",
         "Tue Dec 16 2014 12:30:00 GMT-0800 (PST)"
        ],
        [
         "1",
         "2015",
         "Kia",
         "Sorento",
         "LX",
         "SUV",
         "automatic",
         "5xyktca69fg561319",
         "ca",
         "5.0",
         "9393.0",
         "white",
         "beige",
         "kia motors america  inc",
         "20800.0",
         "21500.0",
         "Tue Dec 16 2014 12:30:00 GMT-0800 (PST)"
        ],
        [
         "2",
         "2014",
         "BMW",
         "3 Series",
         "328i SULEV",
         "Sedan",
         "automatic",
         "wba3c1c51ek116351",
         "ca",
         "45.0",
         "1331.0",
         "gray",
         "black",
         "financial services remarketing (lease)",
         "31900.0",
         "30000.0",
         "Thu Jan 15 2015 04:30:00 GMT-0800 (PST)"
        ],
        [
         "3",
         "2015",
         "Volvo",
         "S60",
         "T5",
         "Sedan",
         "automatic",
         "yv1612tb4f1310987",
         "ca",
         "41.0",
         "14282.0",
         "white",
         "black",
         "volvo na rep/world omni",
         "27500.0",
         "27750.0",
         "Thu Jan 29 2015 04:30:00 GMT-0800 (PST)"
        ],
        [
         "4",
         "2014",
         "BMW",
         "6 Series Gran Coupe",
         "650i",
         "Sedan",
         "automatic",
         "wba6b2c57ed129731",
         "ca",
         "43.0",
         "2641.0",
         "gray",
         "black",
         "financial services remarketing (lease)",
         "66000.0",
         "67000.0",
         "Thu Dec 18 2014 12:30:00 GMT-0800 (PST)"
        ]
       ],
       "shape": {
        "columns": 16,
        "rows": 5
       }
      },
      "text/html": [
       "<div>\n",
       "<style scoped>\n",
       "    .dataframe tbody tr th:only-of-type {\n",
       "        vertical-align: middle;\n",
       "    }\n",
       "\n",
       "    .dataframe tbody tr th {\n",
       "        vertical-align: top;\n",
       "    }\n",
       "\n",
       "    .dataframe thead th {\n",
       "        text-align: right;\n",
       "    }\n",
       "</style>\n",
       "<table border=\"1\" class=\"dataframe\">\n",
       "  <thead>\n",
       "    <tr style=\"text-align: right;\">\n",
       "      <th></th>\n",
       "      <th>year</th>\n",
       "      <th>make</th>\n",
       "      <th>model</th>\n",
       "      <th>trim</th>\n",
       "      <th>body</th>\n",
       "      <th>transmission</th>\n",
       "      <th>vin</th>\n",
       "      <th>state</th>\n",
       "      <th>condition</th>\n",
       "      <th>odometer</th>\n",
       "      <th>color</th>\n",
       "      <th>interior</th>\n",
       "      <th>seller</th>\n",
       "      <th>mmr</th>\n",
       "      <th>sellingprice</th>\n",
       "      <th>saledate</th>\n",
       "    </tr>\n",
       "  </thead>\n",
       "  <tbody>\n",
       "    <tr>\n",
       "      <th>0</th>\n",
       "      <td>2015</td>\n",
       "      <td>Kia</td>\n",
       "      <td>Sorento</td>\n",
       "      <td>LX</td>\n",
       "      <td>SUV</td>\n",
       "      <td>automatic</td>\n",
       "      <td>5xyktca69fg566472</td>\n",
       "      <td>ca</td>\n",
       "      <td>5.0</td>\n",
       "      <td>16639.0</td>\n",
       "      <td>white</td>\n",
       "      <td>black</td>\n",
       "      <td>kia motors america  inc</td>\n",
       "      <td>20500.0</td>\n",
       "      <td>21500.0</td>\n",
       "      <td>Tue Dec 16 2014 12:30:00 GMT-0800 (PST)</td>\n",
       "    </tr>\n",
       "    <tr>\n",
       "      <th>1</th>\n",
       "      <td>2015</td>\n",
       "      <td>Kia</td>\n",
       "      <td>Sorento</td>\n",
       "      <td>LX</td>\n",
       "      <td>SUV</td>\n",
       "      <td>automatic</td>\n",
       "      <td>5xyktca69fg561319</td>\n",
       "      <td>ca</td>\n",
       "      <td>5.0</td>\n",
       "      <td>9393.0</td>\n",
       "      <td>white</td>\n",
       "      <td>beige</td>\n",
       "      <td>kia motors america  inc</td>\n",
       "      <td>20800.0</td>\n",
       "      <td>21500.0</td>\n",
       "      <td>Tue Dec 16 2014 12:30:00 GMT-0800 (PST)</td>\n",
       "    </tr>\n",
       "    <tr>\n",
       "      <th>2</th>\n",
       "      <td>2014</td>\n",
       "      <td>BMW</td>\n",
       "      <td>3 Series</td>\n",
       "      <td>328i SULEV</td>\n",
       "      <td>Sedan</td>\n",
       "      <td>automatic</td>\n",
       "      <td>wba3c1c51ek116351</td>\n",
       "      <td>ca</td>\n",
       "      <td>45.0</td>\n",
       "      <td>1331.0</td>\n",
       "      <td>gray</td>\n",
       "      <td>black</td>\n",
       "      <td>financial services remarketing (lease)</td>\n",
       "      <td>31900.0</td>\n",
       "      <td>30000.0</td>\n",
       "      <td>Thu Jan 15 2015 04:30:00 GMT-0800 (PST)</td>\n",
       "    </tr>\n",
       "    <tr>\n",
       "      <th>3</th>\n",
       "      <td>2015</td>\n",
       "      <td>Volvo</td>\n",
       "      <td>S60</td>\n",
       "      <td>T5</td>\n",
       "      <td>Sedan</td>\n",
       "      <td>automatic</td>\n",
       "      <td>yv1612tb4f1310987</td>\n",
       "      <td>ca</td>\n",
       "      <td>41.0</td>\n",
       "      <td>14282.0</td>\n",
       "      <td>white</td>\n",
       "      <td>black</td>\n",
       "      <td>volvo na rep/world omni</td>\n",
       "      <td>27500.0</td>\n",
       "      <td>27750.0</td>\n",
       "      <td>Thu Jan 29 2015 04:30:00 GMT-0800 (PST)</td>\n",
       "    </tr>\n",
       "    <tr>\n",
       "      <th>4</th>\n",
       "      <td>2014</td>\n",
       "      <td>BMW</td>\n",
       "      <td>6 Series Gran Coupe</td>\n",
       "      <td>650i</td>\n",
       "      <td>Sedan</td>\n",
       "      <td>automatic</td>\n",
       "      <td>wba6b2c57ed129731</td>\n",
       "      <td>ca</td>\n",
       "      <td>43.0</td>\n",
       "      <td>2641.0</td>\n",
       "      <td>gray</td>\n",
       "      <td>black</td>\n",
       "      <td>financial services remarketing (lease)</td>\n",
       "      <td>66000.0</td>\n",
       "      <td>67000.0</td>\n",
       "      <td>Thu Dec 18 2014 12:30:00 GMT-0800 (PST)</td>\n",
       "    </tr>\n",
       "  </tbody>\n",
       "</table>\n",
       "</div>"
      ],
      "text/plain": [
       "   year   make                model        trim   body transmission  \\\n",
       "0  2015    Kia              Sorento          LX    SUV    automatic   \n",
       "1  2015    Kia              Sorento          LX    SUV    automatic   \n",
       "2  2014    BMW             3 Series  328i SULEV  Sedan    automatic   \n",
       "3  2015  Volvo                  S60          T5  Sedan    automatic   \n",
       "4  2014    BMW  6 Series Gran Coupe        650i  Sedan    automatic   \n",
       "\n",
       "                 vin state  condition  odometer  color interior  \\\n",
       "0  5xyktca69fg566472    ca        5.0   16639.0  white    black   \n",
       "1  5xyktca69fg561319    ca        5.0    9393.0  white    beige   \n",
       "2  wba3c1c51ek116351    ca       45.0    1331.0   gray    black   \n",
       "3  yv1612tb4f1310987    ca       41.0   14282.0  white    black   \n",
       "4  wba6b2c57ed129731    ca       43.0    2641.0   gray    black   \n",
       "\n",
       "                                   seller      mmr  sellingprice  \\\n",
       "0                 kia motors america  inc  20500.0       21500.0   \n",
       "1                 kia motors america  inc  20800.0       21500.0   \n",
       "2  financial services remarketing (lease)  31900.0       30000.0   \n",
       "3                 volvo na rep/world omni  27500.0       27750.0   \n",
       "4  financial services remarketing (lease)  66000.0       67000.0   \n",
       "\n",
       "                                  saledate  \n",
       "0  Tue Dec 16 2014 12:30:00 GMT-0800 (PST)  \n",
       "1  Tue Dec 16 2014 12:30:00 GMT-0800 (PST)  \n",
       "2  Thu Jan 15 2015 04:30:00 GMT-0800 (PST)  \n",
       "3  Thu Jan 29 2015 04:30:00 GMT-0800 (PST)  \n",
       "4  Thu Dec 18 2014 12:30:00 GMT-0800 (PST)  "
      ]
     },
     "execution_count": 3,
     "metadata": {},
     "output_type": "execute_result"
    }
   ],
   "source": [
    "df.head(5)"
   ]
  },
  {
   "cell_type": "code",
   "execution_count": 5,
   "id": "a0ccb429",
   "metadata": {},
   "outputs": [
    {
     "name": "stdout",
     "output_type": "stream",
     "text": [
      "dimensões do dataset (linhas, colunas):\n",
      "(558837, 16)\n"
     ]
    }
   ],
   "source": [
    "print(\"dimensões do dataset (linhas, colunas):\")\n",
    "print(df.shape)"
   ]
  },
  {
   "cell_type": "code",
   "execution_count": 6,
   "id": "8ff2fc5d",
   "metadata": {},
   "outputs": [
    {
     "name": "stdout",
     "output_type": "stream",
     "text": [
      "tipos de dados por coluna:\n"
     ]
    },
    {
     "data": {
      "application/vnd.microsoft.datawrangler.viewer.v0+json": {
       "columns": [
        {
         "name": "index",
         "rawType": "object",
         "type": "string"
        },
        {
         "name": "0",
         "rawType": "object",
         "type": "unknown"
        }
       ],
       "ref": "a2899e8c-fe4d-4a65-ad57-518540243215",
       "rows": [
        [
         "year",
         "int64"
        ],
        [
         "make",
         "object"
        ],
        [
         "model",
         "object"
        ],
        [
         "trim",
         "object"
        ],
        [
         "body",
         "object"
        ],
        [
         "transmission",
         "object"
        ],
        [
         "vin",
         "object"
        ],
        [
         "state",
         "object"
        ],
        [
         "condition",
         "float64"
        ],
        [
         "odometer",
         "float64"
        ],
        [
         "color",
         "object"
        ],
        [
         "interior",
         "object"
        ],
        [
         "seller",
         "object"
        ],
        [
         "mmr",
         "float64"
        ],
        [
         "sellingprice",
         "float64"
        ],
        [
         "saledate",
         "object"
        ]
       ],
       "shape": {
        "columns": 1,
        "rows": 16
       }
      },
      "text/plain": [
       "year              int64\n",
       "make             object\n",
       "model            object\n",
       "trim             object\n",
       "body             object\n",
       "transmission     object\n",
       "vin              object\n",
       "state            object\n",
       "condition       float64\n",
       "odometer        float64\n",
       "color            object\n",
       "interior         object\n",
       "seller           object\n",
       "mmr             float64\n",
       "sellingprice    float64\n",
       "saledate         object\n",
       "dtype: object"
      ]
     },
     "execution_count": 6,
     "metadata": {},
     "output_type": "execute_result"
    }
   ],
   "source": [
    "print(\"tipos de dados por coluna:\")\n",
    "df.dtypes"
   ]
  },
  {
   "cell_type": "markdown",
   "id": "b133fc6a",
   "metadata": {},
   "source": [
    "#### 1.2 Tratando o tipo da coluna saledate "
   ]
  },
  {
   "cell_type": "code",
   "execution_count": 7,
   "id": "7e55b2fc",
   "metadata": {},
   "outputs": [
    {
     "name": "stderr",
     "output_type": "stream",
     "text": [
      "/tmp/ipykernel_102686/256252827.py:1: UserWarning: Could not infer format, so each element will be parsed individually, falling back to `dateutil`. To ensure parsing is consistent and as-expected, please specify a format.\n",
      "  saledate_clean = pd.to_datetime(df[\"saledate\"], errors=\"coerce\", utc=True)\n"
     ]
    }
   ],
   "source": [
    "saledate_clean = pd.to_datetime(df[\"saledate\"], errors=\"coerce\", utc=True)\n",
    "\n",
    "df[\"saledate\"] = saledate_clean.dt.tz_convert(None)\n"
   ]
  },
  {
   "cell_type": "code",
   "execution_count": null,
   "id": "9452b591",
   "metadata": {},
   "outputs": [],
   "source": [
    "data_limite = pd.to_datetime(\"2014-11-01\")\n",
    "\n",
    "df = df[df[\"saledate\"] >= data_limite]\n",
    "\n"
   ]
  },
  {
   "cell_type": "code",
   "execution_count": 9,
   "id": "d77d01de",
   "metadata": {},
   "outputs": [
    {
     "data": {
      "application/vnd.microsoft.datawrangler.viewer.v0+json": {
       "columns": [
        {
         "name": "index",
         "rawType": "int64",
         "type": "integer"
        },
        {
         "name": "saledate",
         "rawType": "datetime64[ns]",
         "type": "datetime"
        }
       ],
       "ref": "39d97bac-b004-4d1f-abc9-67e7eb5954b4",
       "rows": [
        [
         "0",
         "2014-12-16 04:30:00"
        ],
        [
         "1",
         "2014-12-16 04:30:00"
        ],
        [
         "2",
         "2015-01-14 20:30:00"
        ],
        [
         "3",
         "2015-01-28 20:30:00"
        ],
        [
         "4",
         "2014-12-18 04:30:00"
        ]
       ],
       "shape": {
        "columns": 1,
        "rows": 5
       }
      },
      "text/plain": [
       "0   2014-12-16 04:30:00\n",
       "1   2014-12-16 04:30:00\n",
       "2   2015-01-14 20:30:00\n",
       "3   2015-01-28 20:30:00\n",
       "4   2014-12-18 04:30:00\n",
       "Name: saledate, dtype: datetime64[ns]"
      ]
     },
     "execution_count": 9,
     "metadata": {},
     "output_type": "execute_result"
    }
   ],
   "source": [
    "df[\"saledate\"].head(5)"
   ]
  },
  {
   "cell_type": "markdown",
   "id": "ea36be48",
   "metadata": {},
   "source": [
    "#### 1.3 Buscando valores ausentes ou duplicados"
   ]
  },
  {
   "cell_type": "code",
   "execution_count": 10,
   "id": "720e382d",
   "metadata": {},
   "outputs": [
    {
     "name": "stdout",
     "output_type": "stream",
     "text": [
      "Linhas duplicadas: 0\n"
     ]
    }
   ],
   "source": [
    "print(f\"Linhas duplicadas: {df.duplicated().sum()}\")"
   ]
  },
  {
   "cell_type": "code",
   "execution_count": 11,
   "id": "a9426efd",
   "metadata": {},
   "outputs": [
    {
     "name": "stdout",
     "output_type": "stream",
     "text": [
      "Valores nulos por coluna:\n",
      "year                0\n",
      "make            10301\n",
      "model           10399\n",
      "trim            10651\n",
      "body            13191\n",
      "transmission    65337\n",
      "vin                 0\n",
      "state               0\n",
      "condition       11794\n",
      "odometer           93\n",
      "color             749\n",
      "interior          749\n",
      "seller              0\n",
      "mmr                 0\n",
      "sellingprice        0\n",
      "saledate            0\n",
      "dtype: int64\n"
     ]
    }
   ],
   "source": [
    "print(f\"Valores nulos por coluna:\\n{df.isnull().sum()}\")"
   ]
  },
  {
   "cell_type": "markdown",
   "id": "0037a2c5",
   "metadata": {},
   "source": [
    "#### 1.4 Lidando com valores ausentes"
   ]
  },
  {
   "cell_type": "code",
   "execution_count": 12,
   "id": "c6c06869",
   "metadata": {},
   "outputs": [
    {
     "name": "stdout",
     "output_type": "stream",
     "text": [
      "(546770, 16)\n"
     ]
    }
   ],
   "source": [
    "df = df.dropna(subset=[\"sellingprice\", \"saledate\", \"odometer\", \"condition\"])\n",
    "print(df.shape)"
   ]
  },
  {
   "cell_type": "code",
   "execution_count": 13,
   "id": "1f80f576",
   "metadata": {},
   "outputs": [],
   "source": [
    "categorical_cols = [\"make\", \"model\", \"trim\", \"body\", \n",
    "                    \"transmission\",\"color\", \"interior\"]\n",
    "\n",
    "df[categorical_cols] = df[categorical_cols].fillna(\"Unknown\")\n"
   ]
  },
  {
   "cell_type": "code",
   "execution_count": 14,
   "id": "aa0bd7eb",
   "metadata": {},
   "outputs": [
    {
     "name": "stdout",
     "output_type": "stream",
     "text": [
      "Valores nulos por coluna:\n",
      "year            0\n",
      "make            0\n",
      "model           0\n",
      "trim            0\n",
      "body            0\n",
      "transmission    0\n",
      "vin             0\n",
      "state           0\n",
      "condition       0\n",
      "odometer        0\n",
      "color           0\n",
      "interior        0\n",
      "seller          0\n",
      "mmr             0\n",
      "sellingprice    0\n",
      "saledate        0\n",
      "dtype: int64\n"
     ]
    }
   ],
   "source": [
    "print(f\"Valores nulos por coluna:\\n{df.isnull().sum()}\")"
   ]
  },
  {
   "cell_type": "markdown",
   "id": "0c95c8f8",
   "metadata": {},
   "source": [
    "#### 1.5 estatísticas descritivas das colunas quantitativas"
   ]
  },
  {
   "cell_type": "code",
   "execution_count": 15,
   "id": "a6ffad22",
   "metadata": {},
   "outputs": [
    {
     "data": {
      "application/vnd.microsoft.datawrangler.viewer.v0+json": {
       "columns": [
        {
         "name": "index",
         "rawType": "object",
         "type": "string"
        },
        {
         "name": "year",
         "rawType": "float64",
         "type": "float"
        },
        {
         "name": "condition",
         "rawType": "float64",
         "type": "float"
        },
        {
         "name": "odometer",
         "rawType": "float64",
         "type": "float"
        },
        {
         "name": "mmr",
         "rawType": "float64",
         "type": "float"
        },
        {
         "name": "sellingprice",
         "rawType": "float64",
         "type": "float"
        },
        {
         "name": "saledate",
         "rawType": "object",
         "type": "unknown"
        }
       ],
       "ref": "b223e535-48ec-4f5f-af69-a58fe3ae8136",
       "rows": [
        [
         "count",
         "546770.0",
         "546770.0",
         "546770.0",
         "546770.0",
         "546770.0",
         "546770"
        ],
        [
         "mean",
         "2010.1337344770195",
         "30.67230828319037",
         "67270.60059622876",
         "13915.055644969549",
         "13763.735735318323",
         "2015-03-07 20:13:27.641348608"
        ],
        [
         "min",
         "1982.0",
         "1.0",
         "1.0",
         "25.0",
         "1.0",
         "2014-12-16 04:00:00"
        ],
        [
         "25%",
         "2008.0",
         "23.0",
         "28057.0",
         "7375.0",
         "7100.0",
         "2015-01-21 17:35:00"
        ],
        [
         "50%",
         "2012.0",
         "35.0",
         "51233.5",
         "12400.0",
         "12300.0",
         "2015-02-16 17:30:00"
        ],
        [
         "75%",
         "2013.0",
         "42.0",
         "97400.0",
         "18450.0",
         "18300.0",
         "2015-05-21 19:20:00"
        ],
        [
         "max",
         "2015.0",
         "49.0",
         "999999.0",
         "182000.0",
         "230000.0",
         "2015-07-20 19:30:00"
        ],
        [
         "std",
         "3.9063193477274014",
         "13.40154352319994",
         "52793.422254616584",
         "9675.055714127195",
         "9748.359914715496",
         null
        ]
       ],
       "shape": {
        "columns": 6,
        "rows": 8
       }
      },
      "text/html": [
       "<div>\n",
       "<style scoped>\n",
       "    .dataframe tbody tr th:only-of-type {\n",
       "        vertical-align: middle;\n",
       "    }\n",
       "\n",
       "    .dataframe tbody tr th {\n",
       "        vertical-align: top;\n",
       "    }\n",
       "\n",
       "    .dataframe thead th {\n",
       "        text-align: right;\n",
       "    }\n",
       "</style>\n",
       "<table border=\"1\" class=\"dataframe\">\n",
       "  <thead>\n",
       "    <tr style=\"text-align: right;\">\n",
       "      <th></th>\n",
       "      <th>year</th>\n",
       "      <th>condition</th>\n",
       "      <th>odometer</th>\n",
       "      <th>mmr</th>\n",
       "      <th>sellingprice</th>\n",
       "      <th>saledate</th>\n",
       "    </tr>\n",
       "  </thead>\n",
       "  <tbody>\n",
       "    <tr>\n",
       "      <th>count</th>\n",
       "      <td>546770.000000</td>\n",
       "      <td>546770.000000</td>\n",
       "      <td>546770.000000</td>\n",
       "      <td>546770.000000</td>\n",
       "      <td>546770.000000</td>\n",
       "      <td>546770</td>\n",
       "    </tr>\n",
       "    <tr>\n",
       "      <th>mean</th>\n",
       "      <td>2010.133734</td>\n",
       "      <td>30.672308</td>\n",
       "      <td>67270.600596</td>\n",
       "      <td>13915.055645</td>\n",
       "      <td>13763.735735</td>\n",
       "      <td>2015-03-07 20:13:27.641348608</td>\n",
       "    </tr>\n",
       "    <tr>\n",
       "      <th>min</th>\n",
       "      <td>1982.000000</td>\n",
       "      <td>1.000000</td>\n",
       "      <td>1.000000</td>\n",
       "      <td>25.000000</td>\n",
       "      <td>1.000000</td>\n",
       "      <td>2014-12-16 04:00:00</td>\n",
       "    </tr>\n",
       "    <tr>\n",
       "      <th>25%</th>\n",
       "      <td>2008.000000</td>\n",
       "      <td>23.000000</td>\n",
       "      <td>28057.000000</td>\n",
       "      <td>7375.000000</td>\n",
       "      <td>7100.000000</td>\n",
       "      <td>2015-01-21 17:35:00</td>\n",
       "    </tr>\n",
       "    <tr>\n",
       "      <th>50%</th>\n",
       "      <td>2012.000000</td>\n",
       "      <td>35.000000</td>\n",
       "      <td>51233.500000</td>\n",
       "      <td>12400.000000</td>\n",
       "      <td>12300.000000</td>\n",
       "      <td>2015-02-16 17:30:00</td>\n",
       "    </tr>\n",
       "    <tr>\n",
       "      <th>75%</th>\n",
       "      <td>2013.000000</td>\n",
       "      <td>42.000000</td>\n",
       "      <td>97400.000000</td>\n",
       "      <td>18450.000000</td>\n",
       "      <td>18300.000000</td>\n",
       "      <td>2015-05-21 19:20:00</td>\n",
       "    </tr>\n",
       "    <tr>\n",
       "      <th>max</th>\n",
       "      <td>2015.000000</td>\n",
       "      <td>49.000000</td>\n",
       "      <td>999999.000000</td>\n",
       "      <td>182000.000000</td>\n",
       "      <td>230000.000000</td>\n",
       "      <td>2015-07-20 19:30:00</td>\n",
       "    </tr>\n",
       "    <tr>\n",
       "      <th>std</th>\n",
       "      <td>3.906319</td>\n",
       "      <td>13.401544</td>\n",
       "      <td>52793.422255</td>\n",
       "      <td>9675.055714</td>\n",
       "      <td>9748.359915</td>\n",
       "      <td>NaN</td>\n",
       "    </tr>\n",
       "  </tbody>\n",
       "</table>\n",
       "</div>"
      ],
      "text/plain": [
       "                year      condition       odometer            mmr  \\\n",
       "count  546770.000000  546770.000000  546770.000000  546770.000000   \n",
       "mean     2010.133734      30.672308   67270.600596   13915.055645   \n",
       "min      1982.000000       1.000000       1.000000      25.000000   \n",
       "25%      2008.000000      23.000000   28057.000000    7375.000000   \n",
       "50%      2012.000000      35.000000   51233.500000   12400.000000   \n",
       "75%      2013.000000      42.000000   97400.000000   18450.000000   \n",
       "max      2015.000000      49.000000  999999.000000  182000.000000   \n",
       "std         3.906319      13.401544   52793.422255    9675.055714   \n",
       "\n",
       "        sellingprice                       saledate  \n",
       "count  546770.000000                         546770  \n",
       "mean    13763.735735  2015-03-07 20:13:27.641348608  \n",
       "min         1.000000            2014-12-16 04:00:00  \n",
       "25%      7100.000000            2015-01-21 17:35:00  \n",
       "50%     12300.000000            2015-02-16 17:30:00  \n",
       "75%     18300.000000            2015-05-21 19:20:00  \n",
       "max    230000.000000            2015-07-20 19:30:00  \n",
       "std      9748.359915                            NaN  "
      ]
     },
     "execution_count": 15,
     "metadata": {},
     "output_type": "execute_result"
    }
   ],
   "source": [
    "df.describe()"
   ]
  },
  {
   "cell_type": "markdown",
   "id": "be8a888f",
   "metadata": {},
   "source": [
    "#### 1.6 Distribuição das variáveis categóricas"
   ]
  },
  {
   "cell_type": "code",
   "execution_count": 16,
   "id": "7991cc3c",
   "metadata": {},
   "outputs": [
    {
     "data": {
      "application/vnd.microsoft.datawrangler.viewer.v0+json": {
       "columns": [
        {
         "name": "make",
         "rawType": "object",
         "type": "string"
        },
        {
         "name": "count",
         "rawType": "int64",
         "type": "integer"
        }
       ],
       "ref": "f96289d5-c4b3-43d0-988b-fec7948c4a48",
       "rows": [
        [
         "Ford",
         "91986"
        ],
        [
         "Chevrolet",
         "58853"
        ],
        [
         "Nissan",
         "53124"
        ],
        [
         "Toyota",
         "38993"
        ],
        [
         "Dodge",
         "30106"
        ],
        [
         "Honda",
         "26375"
        ],
        [
         "Hyundai",
         "21468"
        ],
        [
         "BMW",
         "20303"
        ],
        [
         "Kia",
         "17866"
        ],
        [
         "Chrysler",
         "16917"
        ],
        [
         "Mercedes-Benz",
         "16784"
        ],
        [
         "Infiniti",
         "15177"
        ],
        [
         "Jeep",
         "15015"
        ],
        [
         "Volkswagen",
         "12175"
        ],
        [
         "Lexus",
         "11671"
        ],
        [
         "GMC",
         "10321"
        ],
        [
         "Unknown",
         "10211"
        ],
        [
         "Mazda",
         "8172"
        ],
        [
         "Cadillac",
         "7250"
        ],
        [
         "Acura",
         "5736"
        ],
        [
         "Audi",
         "5734"
        ],
        [
         "Lincoln",
         "5635"
        ],
        [
         "Subaru",
         "4934"
        ],
        [
         "Buick",
         "4929"
        ],
        [
         "Ram",
         "4544"
        ],
        [
         "Pontiac",
         "4243"
        ],
        [
         "Mitsubishi",
         "4030"
        ],
        [
         "Volvo",
         "3630"
        ],
        [
         "MINI",
         "3173"
        ],
        [
         "Saturn",
         "2656"
        ],
        [
         "Mercury",
         "1894"
        ],
        [
         "Land Rover",
         "1708"
        ],
        [
         "Scion",
         "1647"
        ],
        [
         "Jaguar",
         "1375"
        ],
        [
         "Porsche",
         "1360"
        ],
        [
         "Suzuki",
         "1026"
        ],
        [
         "FIAT",
         "857"
        ],
        [
         "HUMMER",
         "786"
        ],
        [
         "Saab",
         "453"
        ],
        [
         "smart",
         "390"
        ],
        [
         "ford",
         "347"
        ],
        [
         "chevrolet",
         "333"
        ],
        [
         "Oldsmobile",
         "333"
        ],
        [
         "dodge",
         "193"
        ],
        [
         "Isuzu",
         "188"
        ],
        [
         "chrysler",
         "180"
        ],
        [
         "Maserati",
         "131"
        ],
        [
         "mazda",
         "116"
        ],
        [
         "Bentley",
         "115"
        ],
        [
         "mitsubishi",
         "113"
        ]
       ],
       "shape": {
        "columns": 1,
        "rows": 94
       }
      },
      "text/plain": [
       "make\n",
       "Ford          91986\n",
       "Chevrolet     58853\n",
       "Nissan        53124\n",
       "Toyota        38993\n",
       "Dodge         30106\n",
       "              ...  \n",
       "dodge tk          1\n",
       "airstream         1\n",
       "dot               1\n",
       "mercedes-b        1\n",
       "Lotus             1\n",
       "Name: count, Length: 94, dtype: int64"
      ]
     },
     "execution_count": 16,
     "metadata": {},
     "output_type": "execute_result"
    }
   ],
   "source": [
    "df[\"make\"].value_counts()"
   ]
  },
  {
   "cell_type": "code",
   "execution_count": 17,
   "id": "55b5117b",
   "metadata": {},
   "outputs": [
    {
     "data": {
      "application/vnd.microsoft.datawrangler.viewer.v0+json": {
       "columns": [
        {
         "name": "model",
         "rawType": "object",
         "type": "string"
        },
        {
         "name": "count",
         "rawType": "int64",
         "type": "integer"
        }
       ],
       "ref": "0d95009c-3feb-4a2e-a777-6493b7423ce2",
       "rows": [
        [
         "Altima",
         "19167"
        ],
        [
         "F-150",
         "14170"
        ],
        [
         "Fusion",
         "12868"
        ],
        [
         "Camry",
         "12327"
        ],
        [
         "Escape",
         "11713"
        ],
        [
         "Unknown",
         "10309"
        ],
        [
         "Focus",
         "10241"
        ],
        [
         "Accord",
         "8844"
        ],
        [
         "3 Series",
         "8034"
        ],
        [
         "Grand Caravan",
         "7842"
        ],
        [
         "Impala",
         "7778"
        ],
        [
         "Explorer",
         "7548"
        ],
        [
         "G Sedan",
         "7417"
        ],
        [
         "Corolla",
         "7228"
        ],
        [
         "Civic",
         "7208"
        ],
        [
         "Malibu",
         "6896"
        ],
        [
         "Sonata",
         "6812"
        ],
        [
         "Maxima",
         "6486"
        ],
        [
         "Cruze",
         "6313"
        ],
        [
         "Elantra",
         "6199"
        ],
        [
         "Silverado 1500",
         "6165"
        ],
        [
         "Town and Country",
         "5886"
        ],
        [
         "Edge",
         "5856"
        ],
        [
         "Rogue",
         "5557"
        ],
        [
         "Sentra",
         "5389"
        ],
        [
         "C-Class",
         "5300"
        ],
        [
         "Equinox",
         "4860"
        ],
        [
         "Mustang",
         "4855"
        ],
        [
         "Grand Cherokee",
         "4550"
        ],
        [
         "Taurus",
         "4540"
        ],
        [
         "Jetta",
         "4507"
        ],
        [
         "Charger",
         "4459"
        ],
        [
         "Optima",
         "4355"
        ],
        [
         "5 Series",
         "4088"
        ],
        [
         "200",
         "4032"
        ],
        [
         "Avenger",
         "3938"
        ],
        [
         "300",
         "3840"
        ],
        [
         "E-Class",
         "3798"
        ],
        [
         "Wrangler",
         "3656"
        ],
        [
         "Sorento",
         "3371"
        ],
        [
         "Odyssey",
         "3362"
        ],
        [
         "1500",
         "3241"
        ],
        [
         "Passat",
         "3214"
        ],
        [
         "CR-V",
         "3172"
        ],
        [
         "RAV4",
         "3171"
        ],
        [
         "Journey",
         "3068"
        ],
        [
         "Versa",
         "3055"
        ],
        [
         "Tahoe",
         "2982"
        ],
        [
         "Mazda3",
         "2830"
        ],
        [
         "Murano",
         "2827"
        ]
       ],
       "shape": {
        "columns": 1,
        "rows": 960
       }
      },
      "text/plain": [
       "model\n",
       "Altima      19167\n",
       "F-150       14170\n",
       "Fusion      12868\n",
       "Camry       12327\n",
       "Escape      11713\n",
       "            ...  \n",
       "Ram Van         1\n",
       "uplandr         1\n",
       "mountnr         1\n",
       "B-Series        1\n",
       "ML55 AMG        1\n",
       "Name: count, Length: 960, dtype: int64"
      ]
     },
     "execution_count": 17,
     "metadata": {},
     "output_type": "execute_result"
    }
   ],
   "source": [
    "df[\"model\"].value_counts()"
   ]
  },
  {
   "cell_type": "code",
   "execution_count": 18,
   "id": "2616e3e8",
   "metadata": {},
   "outputs": [
    {
     "data": {
      "application/vnd.microsoft.datawrangler.viewer.v0+json": {
       "columns": [
        {
         "name": "body",
         "rawType": "object",
         "type": "string"
        },
        {
         "name": "count",
         "rawType": "int64",
         "type": "integer"
        }
       ],
       "ref": "b30422cc-d012-4525-a656-5f17a3bade34",
       "rows": [
        [
         "Sedan",
         "194866"
        ],
        [
         "SUV",
         "116035"
        ],
        [
         "sedan",
         "41902"
        ],
        [
         "suv",
         "24551"
        ],
        [
         "Hatchback",
         "20899"
        ],
        [
         "Minivan",
         "20708"
        ],
        [
         "Coupe",
         "14132"
        ],
        [
         "Wagon",
         "13193"
        ],
        [
         "Crew Cab",
         "12890"
        ],
        [
         "Unknown",
         "12594"
        ],
        [
         "Convertible",
         "8400"
        ],
        [
         "SuperCrew",
         "7266"
        ],
        [
         "G Sedan",
         "5999"
        ],
        [
         "hatchback",
         "4857"
        ],
        [
         "SuperCab",
         "4291"
        ],
        [
         "minivan",
         "4165"
        ],
        [
         "Regular Cab",
         "3919"
        ],
        [
         "Van",
         "3901"
        ],
        [
         "Extended Cab",
         "3628"
        ],
        [
         "Quad Cab",
         "3321"
        ],
        [
         "coupe",
         "3150"
        ],
        [
         "crew cab",
         "3114"
        ],
        [
         "wagon",
         "2498"
        ],
        [
         "convertible",
         "1823"
        ],
        [
         "supercrew",
         "1609"
        ],
        [
         "E-Series Van",
         "1452"
        ],
        [
         "g sedan",
         "1418"
        ],
        [
         "G Coupe",
         "1262"
        ],
        [
         "Double Cab",
         "1227"
        ],
        [
         "supercab",
         "862"
        ],
        [
         "regular cab",
         "783"
        ],
        [
         "extended cab",
         "683"
        ],
        [
         "quad cab",
         "659"
        ],
        [
         "van",
         "570"
        ],
        [
         "CrewMax Cab",
         "430"
        ],
        [
         "King Cab",
         "417"
        ],
        [
         "e-series van",
         "368"
        ],
        [
         "double cab",
         "350"
        ],
        [
         "g coupe",
         "330"
        ],
        [
         "G Convertible",
         "249"
        ],
        [
         "Genesis Coupe",
         "231"
        ],
        [
         "Access Cab",
         "227"
        ],
        [
         "Koup",
         "146"
        ],
        [
         "Club Cab",
         "143"
        ],
        [
         "CTS Coupe",
         "129"
        ],
        [
         "crewmax cab",
         "120"
        ],
        [
         "king cab",
         "96"
        ],
        [
         "Elantra Coupe",
         "80"
        ],
        [
         "g convertible",
         "74"
        ],
        [
         "genesis coupe",
         "62"
        ]
       ],
       "shape": {
        "columns": 1,
        "rows": 87
       }
      },
      "text/plain": [
       "body\n",
       "Sedan          194866\n",
       "SUV            116035\n",
       "sedan           41902\n",
       "suv             24551\n",
       "Hatchback       20899\n",
       "                ...  \n",
       "CTS-V Wagon         1\n",
       "Ram Van             1\n",
       "g37 coupe           1\n",
       "cab plus 4          1\n",
       "cts wagon           1\n",
       "Name: count, Length: 87, dtype: int64"
      ]
     },
     "execution_count": 18,
     "metadata": {},
     "output_type": "execute_result"
    }
   ],
   "source": [
    "df[\"body\"].value_counts()"
   ]
  },
  {
   "cell_type": "markdown",
   "id": "ce0efd3a",
   "metadata": {},
   "source": [
    "#### 1.7 Tratando as variáveis categóricas"
   ]
  },
  {
   "cell_type": "code",
   "execution_count": 19,
   "id": "cef8be61",
   "metadata": {},
   "outputs": [],
   "source": [
    "# Lista de colunas categóricas com tipos duplicados \n",
    "cat_cols = [\"make\", \"model\",\"body\"]\n",
    "\n",
    "# Padronizar para minúsculas\n",
    "for col in cat_cols:\n",
    "    df[col] = df[col].astype(str).str.lower().str.strip()"
   ]
  },
  {
   "cell_type": "markdown",
   "id": "8ece7c09",
   "metadata": {},
   "source": [
    "### 2.0 Análise gráfica exploratória das amostra"
   ]
  },
  {
   "cell_type": "markdown",
   "id": "41d13c3b",
   "metadata": {},
   "source": [
    "#### 2.1 Vendas ao longo do tempo"
   ]
  },
  {
   "cell_type": "code",
   "execution_count": 20,
   "id": "c06cef5c",
   "metadata": {},
   "outputs": [
    {
     "name": "stderr",
     "output_type": "stream",
     "text": [
      "/home/liborio/miniconda3/envs/movies/lib/python3.11/site-packages/IPython/core/pylabtools.py:170: UserWarning: Glyph 128202 (\\N{BAR CHART}) missing from font(s) DejaVu Sans.\n",
      "  fig.canvas.print_figure(bytes_io, **kw)\n"
     ]
    },
    {
     "data": {
      "image/png": "[encoded data removed]",
      "text/plain": [
       "<Figure size 1000x500 with 1 Axes>"
      ]
     },
     "metadata": {},
     "output_type": "display_data"
    }
   ],
   "source": [
    "plt.figure(figsize=(10,5))\n",
    "plt.hist(df[\"saledate\"], bins=50, edgecolor=\"black\")\n",
    "plt.xlabel(\"Data da Venda\")\n",
    "plt.ylabel(\"Quantidade de Vendas\")\n",
    "plt.title(\"📊 Distribuição das Vendas ao Longo do Tempo\")\n",
    "plt.xticks(rotation=45)\n",
    "plt.show()\n"
   ]
  },
  {
   "cell_type": "markdown",
   "id": "84131569",
   "metadata": {},
   "source": [
    "#### 2.2 Histograma dos preços das vendas"
   ]
  },
  {
   "cell_type": "code",
   "execution_count": 21,
   "id": "99e17ddf",
   "metadata": {},
   "outputs": [
    {
     "data": {
      "image/png": "[encoded data removed]",
      "text/plain": [
       "<Figure size 1000x600 with 1 Axes>"
      ]
     },
     "metadata": {},
     "output_type": "display_data"
    }
   ],
   "source": [
    "plt.figure(figsize=(10,6))\n",
    "plt.hist(df[\"sellingprice\"], bins=50, edgecolor=\"black\", color=\"skyblue\")\n",
    "plt.xlabel(\"Preço de Venda (sellingprice)\")\n",
    "plt.ylabel(\"Frequência\")\n",
    "plt.title(\"Distribuição dos Preços dos Carros\")\n",
    "plt.grid(axis=\"y\", linestyle=\"--\", alpha=0.7)\n",
    "plt.show()\n"
   ]
  },
  {
   "cell_type": "markdown",
   "id": "186a1a5a",
   "metadata": {},
   "source": [
    "#### 2.3 Restante da visualização grafica mais precisa do dashboard interativo"
   ]
  },
  {
   "cell_type": "markdown",
   "id": "79c7e45a",
   "metadata": {},
   "source": [
    "  ### 3.0 Análise de Regressão Linear e Testes de Hipóteses"
   ]
  },
  {
   "cell_type": "markdown",
   "id": "89660ceb",
   "metadata": {},
   "source": [
    "### 3.1 Hipóteses formuladas da visualização grafica.\n",
    "Com base na análise exploratória e nas visualizações gráficas do conjunto de dados de 2015, algumas hipóteses iniciais puderam ser levantadas:\n",
    "\n",
    "- **H₁:** Carros mais novos (ano de fabricação maior) tendem a ter preços de venda mais altos.  \n",
    "\n",
    "- **H₂:** Veículos com maior quilometragem (`odometer`) apresentam preços médios menores.  \n",
    "\n",
    "- **H₃:** A condição do carro (`condition`) influencia positivamente o valor de venda, isto é, carros em melhor estado são vendidos por preços mais altos.  \n",
    "\n",
    "- **H₄** A idade do carro (tempo em anos desde a fabricação), em conjunto com a quilometragem percorrida, tem impacto negativo sobre sua qualidade percebida e, consequentemente, sobre o preço de venda — carros mais antigos e muito rodados tendem a ser vendidos por valores mais baixos.\n",
    "\n",
    "Essas hipóteses foram posteriormente avaliadas de forma estatística por meio da regressão linear (seção 3.1), permitindo verificar a significância de cada variável na explicação do preço de venda."
   ]
  },
  {
   "cell_type": "markdown",
   "id": "d7993e28",
   "metadata": {},
   "source": [
    "3.2 – Análise dos Preços de Carros vendidos em 2015\n",
    "\n",
    "Nesta subseção, foi desenvolvido um modelo de **regressão linear Múltipla** com o objetivo de analisar os fatores que influenciam o preço de venda (`sellingprice`) de carros usados durante o ano de **2015**. Para isso, foram consideradas três variáveis explicativas:\n",
    "\n",
    "- **`year`**: ano de fabricação do veículo;  \n",
    "- **`odometer`**: quilometragem percorrida;  \n",
    "- **`condition`**: condição do carro em escala numérica.  \n"
   ]
  },
  {
   "cell_type": "code",
   "execution_count": 22,
   "id": "30ec1190",
   "metadata": {},
   "outputs": [
    {
     "name": "stdout",
     "output_type": "stream",
     "text": [
      "Coeficientes: const       -1.514203e+06\n",
      "year         7.606578e+02\n",
      "odometer    -5.593892e-02\n",
      "condition    8.830535e+01\n",
      "dtype: float64 \n",
      "\n",
      "Erro Padrão: const        10083.094745\n",
      "year             5.009354\n",
      "odometer         0.000366\n",
      "condition        0.982655\n",
      "dtype: float64 \n",
      "\n",
      "p-valores: const        0.0\n",
      "year         0.0\n",
      "odometer     0.0\n",
      "condition    0.0\n",
      "dtype: float64 \n",
      "\n",
      "Intervalos de confiança:                       0             1\n",
      "const     -1.533966e+06 -1.494441e+06\n",
      "year       7.508396e+02  7.704760e+02\n",
      "odometer  -5.665697e-02 -5.522088e-02\n",
      "condition  8.637938e+01  9.023133e+01\n"
     ]
    }
   ],
   "source": [
    "# 🎯 Variável dependente (alvo)\n",
    "y = df[\"sellingprice\"]\n",
    "\n",
    "# 📊 Variáveis independentes \n",
    "X = df[[\"year\", \"odometer\", \"condition\"]]\n",
    "\n",
    "# 🔀 Divisão treino (70%) e teste (30%)\n",
    "X_train, X_test, y_train, y_test = train_test_split(\n",
    "    X, y, test_size=0.3, random_state=42\n",
    ")\n",
    "\n",
    "# ➕ Adicionar intercepto\n",
    "X_train_const = sm.add_constant(X_train)\n",
    "X_test_const = sm.add_constant(X_test)\n",
    "\n",
    "# 📈 Ajustar modelo de regressão linear (OLS)\n",
    "model = sm.OLS(y_train, X_train_const).fit()\n",
    "\n",
    "# 📊 Resumo estatístico\n",
    "print(\"Coeficientes:\", model.params, \"\\n\")\n",
    "print(\"Erro Padrão:\", model.bse, \"\\n\")\n",
    "print(\"p-valores:\", model.pvalues, \"\\n\")\n",
    "print(\"Intervalos de confiança:\", model.conf_int())"
   ]
  },
  {
   "cell_type": "markdown",
   "id": "e234348a",
   "metadata": {},
   "source": [
    "- **Coeficientes:** mostram o impacto de cada variável sobre o preço.  \n",
    "- **Erro Padrão:** mede a incerteza associada à estimativa do coeficiente; quanto menor, mais confiável é a estimativa.  \n",
    "- **p-valores:** como todos foram menores que 0,05, rejeitamos a hipótese nula e concluímos que todas as variáveis são **estatisticamente significativas** para explicar o preço de venda.  \n",
    "- **Intervalos de Confiança (95%):** confirmam a robustez das estimativas, já que não incluem o valor zero e mantêm o mesmo sinal (positivo ou negativo).  "
   ]
  },
  {
   "cell_type": "markdown",
   "id": "a0108bf1",
   "metadata": {},
   "source": [
    "### 📌 Interpretação Prática\n",
    "\n",
    "A partir dos coeficientes estimados pelo modelo, temos os seguintes insights sobre os preços de venda em 2015:\n",
    "\n",
    "- **Ano de fabricação (`year`)**: cada ano a mais aumenta o preço de venda em cerca de **US$ 760**.  \n",
    "- **Quilometragem (`odometer`)**: cada quilômetro rodado reduz o preço em aproximadamente **US$ 0,056**.  \n",
    "  - Na prática, a cada **10.000 km rodados**, o veículo perde cerca de **US$ 560** em valor de mercado.  \n",
    "- **Condição (`condition`)**: cada ponto a mais na escala de condição aumenta o preço em média **US$ 88**.  \n",
    "\n",
    "Esses resultados confirmam e mostram o quanto **carros mais novos, menos rodados e em melhor estado de conservação tendem a alcançar preços mais altos** no mercado de usados."
   ]
  },
  {
   "cell_type": "markdown",
   "id": "8e9acc2e",
   "metadata": {},
   "source": [
    "#### 3.2 Regressão Linear – Análise de correlação da variável condition.\n"
   ]
  },
  {
   "cell_type": "code",
   "execution_count": null,
   "id": "4473dce0",
   "metadata": {},
   "outputs": [
    {
     "name": "stdout",
     "output_type": "stream",
     "text": [
      "Coeficientes: const      -1583.869808\n",
      "year           0.804356\n",
      "odometer      -0.000035\n",
      "dtype: float64 \n",
      "\n",
      "Erro Padrão: const       1.638727e+01\n",
      "year        8.136851e-03\n",
      "odometer    6.000222e-07\n",
      "dtype: float64 \n",
      "\n",
      "p-valores: const       0.0\n",
      "year        0.0\n",
      "odometer    0.0\n",
      "dtype: float64 \n",
      "\n",
      "Intervalos de confiança:                     0            1\n",
      "const    -1615.988376 -1551.751240\n",
      "year         0.788408     0.820304\n",
      "odometer    -0.000036    -0.000033\n"
     ]
    }
   ],
   "source": [
    "# 🎯 Variável dependente (alvo)\n",
    "y2 = df[\"condition\"]\n",
    "\n",
    "# 📊 Variáveis independentes \n",
    "X2 = df[[\"year\", \"odometer\"]]\n",
    "\n",
    "# 🔀 Divisão treino (70%) e teste (30%)\n",
    "X2_train, X2_test, y2_train, y2_test = train_test_split(\n",
    "    X2, y2, test_size=0.3, random_state=42\n",
    ")\n",
    "\n",
    "# ➕ Adicionar intercepto\n",
    "X2_train_const = sm.add_constant(X2_train)\n",
    "X2_test_const = sm.add_constant(X2_test)\n",
    "\n",
    "# 📈 Ajustar modelo de regressão linear (OLS) - Ordinary Least Squares (Mínimos Quadrados Ordinários).\n",
    "model2 = sm.OLS(y2_train, X2_train_const).fit()\n",
    "\n",
    "# 📊 Resumo estatístico\n",
    "print(\"Coeficientes:\", model2.params, \"\\n\")\n",
    "print(\"Erro Padrão:\", model2.bse, \"\\n\")\n",
    "print(\"p-valores:\", model2.pvalues, \"\\n\")\n",
    "print(\"Intervalos de confiança:\", model2.conf_int())\n",
    "\n"
   ]
  },
  {
   "cell_type": "markdown",
   "id": "4b734a38",
   "metadata": {},
   "source": [
    ")\n",
    "\n",
    "- **Coeficientes:**  \n",
    "  - `year`: **+0,804** → carros mais novos tendem a ter condição melhor.  \n",
    "  - `odometer`: **-0,000035** → mais quilômetros rodados reduzem a condição.  \n",
    "- **Erro Padrão:** todos muito baixos, mostrando que as estimativas são precisas.  \n",
    "- **p-valores:** todos iguais a **0.0**, rejeitando H₀. As variáveis são estatisticamente significativas.  \n",
    "- **Intervalos de Confiança (95%):**  \n",
    "  - `year`: [0,788 ; 0,820] → efeito sempre positivo.  \n",
    "  - `odometer`: [-0,000036 ; -0,000033] → efeito sempre negativo.\n"
   ]
  },
  {
   "cell_type": "markdown",
   "id": "502a5171",
   "metadata": {},
   "source": [
    "Os resultados confirmam que a condição dos veículos em 2015 depende significativamente do ano de fabricação e da quilometragem:\n",
    "\n",
    "- Cada **ano a mais** no modelo do carro aumenta a condição média em cerca de **0,8 pontos**.  \n",
    "- A cada **10.000 km rodados**, a condição diminui em torno de **0,35 pontos**.  \n",
    "\n",
    "✅ Em resumo: carros **mais novos e menos rodados** tendem a apresentar condições melhores no mercado de usados.\n"
   ]
  }
 ],
 "metadata": {
  "kernelspec": {
   "display_name": "movies",
   "language": "python",
   "name": "python3"
  },
  "language_info": {
   "codemirror_mode": {
    "name": "ipython",
    "version": 3
   },
   "file_extension": ".py",
   "mimetype": "text/x-python",
   "name": "python",
   "nbconvert_exporter": "python",
   "pygments_lexer": "ipython3",
   "version": "3.11.13"
  }
 },
 "nbformat": 4,
 "nbformat_minor": 5
}
